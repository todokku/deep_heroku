{
 "cells": [
  {
   "cell_type": "markdown",
   "metadata": {
    "extensions": {
     "jupyter_dashboards": {
      "version": 1,
      "views": {
       "grid_default": {},
       "report_default": {
        "hidden": false
       }
      }
     }
    }
   },
   "source": [
    "## Filter Table & Download CSV File For Sea Level Data\n",
    "\n",
    "**Note:** If the table is not displaying open this notebook in another browser (i.e Chrome)"
   ]
  },
  {
   "cell_type": "markdown",
   "metadata": {
    "extensions": {
     "jupyter_dashboards": {
      "version": 1,
      "views": {
       "grid_default": {},
       "report_default": {
        "hidden": true
       }
      }
     }
    }
   },
   "source": [
    "## Define Dataframe"
   ]
  },
  {
   "cell_type": "code",
   "execution_count": 1,
   "metadata": {
    "extensions": {
     "jupyter_dashboards": {
      "version": 1,
      "views": {
       "grid_default": {},
       "report_default": {
        "hidden": true
       }
      }
     }
    }
   },
   "outputs": [],
   "source": [
    "from __future__ import print_function\n",
    "from ipywidgets import interact, interactive, interact_manual\n",
    "import lineup_widget\n",
    "\n",
    "import pandas as pd\n",
    "import io\n",
    "import requests\n",
    "# --------------------------- #\n",
    "\n",
    "url=\"https://raw.githubusercontent.com/natarslan/DEEP_Thesis/master/content/Data/CSV/Hawaii_SeaLevel_ResearchQuality.csv\"\n",
    "s=requests.get(url).content\n",
    "df=pd.read_csv(io.StringIO(s.decode('utf-8')),sep=';', error_bad_lines=False)\n",
    "\n",
    "df['Meta_Copy'] = df['Meta_Link']\n",
    "\n",
    "# new data frame with split value columns \n",
    "new = df['Meta_Copy'].str.split(pat = \"/\", expand=True)\n",
    "\n",
    "# Take the important part. We need to split this --> qa001a.dmt into this --> 001a\n",
    "new[7] = new[6].str[2:6]  #new[6].str[:6]\n",
    "\n",
    "# Create CSV Link from columns\n",
    "new['CSV']= new[0] + \"//\" + new[2] + \"/data/csv/\" + new[3] + \"/\" + new[4] + \"/daily/d\" + new[7] + \".csv\"\n",
    "\n",
    "# making separate column from  new data frame into the previous df\n",
    "df['CSV'] = new['CSV']\n",
    "\n",
    "# Drop Unnecessary Columns\n",
    "df = df.drop(['UH#', 'GLOSS#', 'Version', 'Meta', 'Meta_Link', 'Meta_Copy'],axis = 1)\n",
    "\n",
    "pd.options.display.max_colwidth = 200\n",
    "\n",
    "# --------------------------- #"
   ]
  },
  {
   "cell_type": "markdown",
   "metadata": {
    "extensions": {
     "jupyter_dashboards": {
      "version": 1,
      "views": {
       "grid_default": {},
       "report_default": {
        "hidden": true
       }
      }
     }
    }
   },
   "source": [
    "## lineup_widget"
   ]
  },
  {
   "cell_type": "code",
   "execution_count": 2,
   "metadata": {
    "extensions": {
     "jupyter_dashboards": {
      "version": 1,
      "views": {
       "grid_default": {},
       "report_default": {
        "hidden": false
       }
      }
     }
    },
    "scrolled": false
   },
   "outputs": [
    {
     "data": {
      "application/vnd.jupyter.widget-view+json": {
       "model_id": "6cc3caf33ac84fcd8c6dbd30ef70b123",
       "version_major": 2,
       "version_minor": 0
      },
      "text/plain": [
       "interactive(children=(LineUpWidget(value=[], description='selection', layout=Layout(align_self='stretch', heig…"
      ]
     },
     "metadata": {},
     "output_type": "display_data"
    }
   ],
   "source": [
    "def make_clickable(val):\n",
    "    # target _blank to open new window\n",
    "    return '<a target=\"_blank\" href=\"{}\">{}</a>'.format(val, val)\n",
    "\n",
    "w = lineup_widget.LineUpWidget(df)\n",
    "w.on_selection_changed(lambda selection: print(selection))\n",
    "\n",
    "\n",
    "def selection_changed(selection):\n",
    "    print(df['CSV'].iloc[selection])\n",
    "    df.style.format({'CSV': make_clickable})\n",
    "#     display(df['CSV'].iloc[selection])\n",
    "#     return df['CSV'].iloc[selection]\n",
    "\n",
    "interact(selection_changed, selection=lineup_widget.LineUpWidget(df));\n",
    "\n"
   ]
  },
  {
   "cell_type": "markdown",
   "metadata": {
    "extensions": {
     "jupyter_dashboards": {
      "version": 1,
      "views": {
       "grid_default": {},
       "report_default": {
        "hidden": false
       }
      }
     }
    }
   },
   "source": [
    "## Ipywidget"
   ]
  },
  {
   "cell_type": "code",
   "execution_count": 3,
   "metadata": {
    "extensions": {
     "jupyter_dashboards": {
      "version": 1,
      "views": {
       "grid_default": {},
       "report_default": {
        "hidden": false
       }
      }
     }
    }
   },
   "outputs": [
    {
     "data": {
      "application/vnd.jupyter.widget-view+json": {
       "model_id": "0bb15aa70fee4fc382aa32de91dcc03d",
       "version_major": 2,
       "version_minor": 0
      },
      "text/plain": [
       "Dropdown(options=('ALL', 'American Samoa', 'Angola', 'Antarctica', 'Argentina', 'Australia', 'Bahamas (the)', …"
      ]
     },
     "metadata": {},
     "output_type": "display_data"
    }
   ],
   "source": [
    "import pandas as pd\n",
    "from ipywidgets import widgets, interact, interactive, fixed, interact_manual\n",
    "from IPython.display import display\n",
    "\n",
    "def make_clickable(val):\n",
    "    # target _blank to open new window\n",
    "    return '<a target=\"_blank\" href=\"{}\">{}</a>'.format(val, val)\n",
    "\n",
    "output = widgets.Output()\n",
    "\n",
    "\n",
    "ALL = 'ALL'\n",
    "def country_unique_sorted(array):\n",
    "    unique = array.unique().tolist()\n",
    "    unique.sort()\n",
    "    unique.insert(0, ALL)\n",
    "    return unique\n",
    "\n",
    "dropdown_country = widgets.Dropdown(options = country_unique_sorted(df.Country))\n",
    "\n",
    "\n",
    "\n",
    "def dropdown_filtering(country_filtered):\n",
    "    \n",
    "    output.clear_output()\n",
    "    \n",
    "    if (country_filtered == ALL):\n",
    "        df_country_filtered = df\n",
    "        #display(df_country_filtered)\n",
    "        \n",
    "    else:\n",
    "        df_country_filtered = df[df.Country == country_filtered]\n",
    "        #display(df_country_filtered)\n",
    "    \n",
    "    with output:\n",
    "        df.style.format({'CSV': make_clickable})\n",
    "        print(df_country_filtered.CSV)\n",
    "        #display(df_country_filtered)\n",
    "        \n",
    "        \n",
    "def dropdown_country_eventhandler(change):\n",
    "    dropdown_filtering(change.new)\n",
    "        \n",
    "        \n",
    "dropdown_country.observe(dropdown_country_eventhandler, names='value')\n",
    "\n",
    "display(dropdown_country)"
   ]
  },
  {
   "cell_type": "code",
   "execution_count": 4,
   "metadata": {
    "extensions": {
     "jupyter_dashboards": {
      "version": 1,
      "views": {
       "grid_default": {},
       "report_default": {
        "hidden": true
       }
      }
     }
    },
    "scrolled": true
   },
   "outputs": [
    {
     "data": {
      "application/vnd.jupyter.widget-view+json": {
       "model_id": "95918d0e877a471eb05bf3ddd7c681e4",
       "version_major": 2,
       "version_minor": 0
      },
      "text/plain": [
       "Output()"
      ]
     },
     "metadata": {},
     "output_type": "display_data"
    }
   ],
   "source": [
    "display(output)"
   ]
  },
  {
   "cell_type": "code",
   "execution_count": null,
   "metadata": {
    "extensions": {
     "jupyter_dashboards": {
      "version": 1,
      "views": {
       "grid_default": {},
       "report_default": {
        "hidden": true
       }
      }
     }
    }
   },
   "outputs": [],
   "source": []
  }
 ],
 "metadata": {
  "extensions": {
   "jupyter_dashboards": {
    "activeView": "report_default",
    "version": 1,
    "views": {
     "grid_default": {
      "cellMargin": 10,
      "defaultCellHeight": 20,
      "maxColumns": 12,
      "name": "grid",
      "type": "grid"
     },
     "report_default": {
      "name": "report",
      "type": "report"
     }
    }
   }
  },
  "hide_input": false,
  "kernelspec": {
   "display_name": "Python 3",
   "language": "python",
   "name": "python3"
  },
  "language_info": {
   "codemirror_mode": {
    "name": "ipython",
    "version": 3
   },
   "file_extension": ".py",
   "mimetype": "text/x-python",
   "name": "python",
   "nbconvert_exporter": "python",
   "pygments_lexer": "ipython3",
   "version": "3.7.6"
  },
  "toc": {
   "base_numbering": 1,
   "nav_menu": {},
   "number_sections": false,
   "sideBar": false,
   "skip_h1_title": true,
   "title_cell": "Table of Contents",
   "title_sidebar": "Contents",
   "toc_cell": false,
   "toc_position": {},
   "toc_section_display": false,
   "toc_window_display": false
  }
 },
 "nbformat": 4,
 "nbformat_minor": 4
}
